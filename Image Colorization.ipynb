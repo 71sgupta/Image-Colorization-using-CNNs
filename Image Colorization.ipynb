{
 "cells": [
  {
   "cell_type": "code",
   "execution_count": 0,
   "metadata": {
    "colab": {
     "base_uri": "https://localhost:8080/",
     "height": 1000
    },
    "colab_type": "code",
    "executionInfo": {
     "elapsed": 1011,
     "status": "ok",
     "timestamp": 1563829019087,
     "user": {
      "displayName": "Shivangi Gupta",
      "photoUrl": "",
      "userId": "12757452847987614308"
     },
     "user_tz": 420
    },
    "id": "TWp_l8KmsGUX",
    "outputId": "1c6f315a-a2e8-428d-bd4b-b15412152be3"
   },
   "outputs": [
    {
     "name": "stdout",
     "output_type": "stream",
     "text": [
      "Train Features :\n",
      "[[[[ 59  62  63]\n",
      "   [ 43  46  45]\n",
      "   [ 50  48  43]\n",
      "   ...\n",
      "   [158 132 108]\n",
      "   [152 125 102]\n",
      "   [148 124 103]]\n",
      "\n",
      "  [[ 16  20  20]\n",
      "   [  0   0   0]\n",
      "   [ 18   8   0]\n",
      "   ...\n",
      "   [123  88  55]\n",
      "   [119  83  50]\n",
      "   [122  87  57]]\n",
      "\n",
      "  [[ 25  24  21]\n",
      "   [ 16   7   0]\n",
      "   [ 49  27   8]\n",
      "   ...\n",
      "   [118  84  50]\n",
      "   [120  84  50]\n",
      "   [109  73  42]]\n",
      "\n",
      "  ...\n",
      "\n",
      "  [[208 170  96]\n",
      "   [201 153  34]\n",
      "   [198 161  26]\n",
      "   ...\n",
      "   [160 133  70]\n",
      "   [ 56  31   7]\n",
      "   [ 53  34  20]]\n",
      "\n",
      "  [[180 139  96]\n",
      "   [173 123  42]\n",
      "   [186 144  30]\n",
      "   ...\n",
      "   [184 148  94]\n",
      "   [ 97  62  34]\n",
      "   [ 83  53  34]]\n",
      "\n",
      "  [[177 144 116]\n",
      "   [168 129  94]\n",
      "   [179 142  87]\n",
      "   ...\n",
      "   [216 184 140]\n",
      "   [151 118  84]\n",
      "   [123  92  72]]]\n",
      "\n",
      "\n",
      " [[[154 177 187]\n",
      "   [126 137 136]\n",
      "   [105 104  95]\n",
      "   ...\n",
      "   [ 91  95  71]\n",
      "   [ 87  90  71]\n",
      "   [ 79  81  70]]\n",
      "\n",
      "  [[140 160 169]\n",
      "   [145 153 154]\n",
      "   [125 125 118]\n",
      "   ...\n",
      "   [ 96  99  78]\n",
      "   [ 77  80  62]\n",
      "   [ 71  73  61]]\n",
      "\n",
      "  [[140 155 164]\n",
      "   [139 146 149]\n",
      "   [115 115 112]\n",
      "   ...\n",
      "   [ 79  82  64]\n",
      "   [ 68  70  55]\n",
      "   [ 67  69  55]]\n",
      "\n",
      "  ...\n",
      "\n",
      "  [[175 167 166]\n",
      "   [156 154 160]\n",
      "   [154 160 170]\n",
      "   ...\n",
      "   [ 42  34  36]\n",
      "   [ 61  53  57]\n",
      "   [ 93  83  91]]\n",
      "\n",
      "  [[165 154 128]\n",
      "   [156 152 130]\n",
      "   [159 161 142]\n",
      "   ...\n",
      "   [103  93  96]\n",
      "   [123 114 120]\n",
      "   [131 121 131]]\n",
      "\n",
      "  [[163 148 120]\n",
      "   [158 148 122]\n",
      "   [163 156 133]\n",
      "   ...\n",
      "   [143 133 139]\n",
      "   [143 134 142]\n",
      "   [143 133 144]]]]\n",
      " \n",
      "Train Labels :\n",
      "[[6]\n",
      " [9]]\n",
      " \n",
      "Test Features :\n",
      "[[[[158 112  49]\n",
      "   [159 111  47]\n",
      "   [165 116  51]\n",
      "   ...\n",
      "   [137  95  36]\n",
      "   [126  91  36]\n",
      "   [116  85  33]]\n",
      "\n",
      "  [[152 112  51]\n",
      "   [151 110  40]\n",
      "   [159 114  45]\n",
      "   ...\n",
      "   [136  95  31]\n",
      "   [125  91  32]\n",
      "   [119  88  34]]\n",
      "\n",
      "  [[151 110  47]\n",
      "   [151 109  33]\n",
      "   [158 111  36]\n",
      "   ...\n",
      "   [139  98  34]\n",
      "   [130  95  34]\n",
      "   [120  89  33]]\n",
      "\n",
      "  ...\n",
      "\n",
      "  [[ 68 124 177]\n",
      "   [ 42 100 148]\n",
      "   [ 31  88 137]\n",
      "   ...\n",
      "   [ 38  97 146]\n",
      "   [ 13  64 108]\n",
      "   [ 40  85 127]]\n",
      "\n",
      "  [[ 61 116 168]\n",
      "   [ 49 102 148]\n",
      "   [ 35  85 132]\n",
      "   ...\n",
      "   [ 26  82 130]\n",
      "   [ 29  82 126]\n",
      "   [ 20  64 107]]\n",
      "\n",
      "  [[ 54 107 160]\n",
      "   [ 56 105 149]\n",
      "   [ 45  89 132]\n",
      "   ...\n",
      "   [ 24  77 124]\n",
      "   [ 34  84 129]\n",
      "   [ 21  67 110]]]\n",
      "\n",
      "\n",
      " [[[235 235 235]\n",
      "   [231 231 231]\n",
      "   [232 232 232]\n",
      "   ...\n",
      "   [233 233 233]\n",
      "   [233 233 233]\n",
      "   [232 232 232]]\n",
      "\n",
      "  [[238 238 238]\n",
      "   [235 235 235]\n",
      "   [235 235 235]\n",
      "   ...\n",
      "   [236 236 236]\n",
      "   [236 236 236]\n",
      "   [235 235 235]]\n",
      "\n",
      "  [[237 237 237]\n",
      "   [234 234 234]\n",
      "   [234 234 234]\n",
      "   ...\n",
      "   [235 235 235]\n",
      "   [235 235 235]\n",
      "   [234 234 234]]\n",
      "\n",
      "  ...\n",
      "\n",
      "  [[ 87  99  89]\n",
      "   [ 43  51  37]\n",
      "   [ 19  23  11]\n",
      "   ...\n",
      "   [169 184 179]\n",
      "   [182 197 193]\n",
      "   [188 202 201]]\n",
      "\n",
      "  [[ 82  96  82]\n",
      "   [ 46  57  36]\n",
      "   [ 36  44  22]\n",
      "   ...\n",
      "   [174 189 183]\n",
      "   [185 200 196]\n",
      "   [187 202 200]]\n",
      "\n",
      "  [[ 85 101  83]\n",
      "   [ 62  75  48]\n",
      "   [ 58  67  38]\n",
      "   ...\n",
      "   [168 183 178]\n",
      "   [180 195 191]\n",
      "   [186 200 199]]]]\n",
      " \n",
      "Test Labels :\n",
      "[[3]\n",
      " [8]]\n"
     ]
    }
   ],
   "source": [
    "#2(a)\n",
    "(X_train, y_train), (X_test, y_test) = cifar10.load_data()\n",
    "\n",
    "print(\"Train Features :\")\n",
    "print(X_train[0:2])\n",
    "print(\" \")\n",
    "print(\"Train Labels :\")\n",
    "print(y_train[0:2])\n",
    "\n",
    "print(\" \")\n",
    "print(\"Test Features :\")\n",
    "print(X_test[0:2])\n",
    "print(\" \")\n",
    "print(\"Test Labels :\")\n",
    "print(y_test[0:2])"
   ]
  },
  {
   "cell_type": "code",
   "execution_count": 0,
   "metadata": {
    "colab": {
     "base_uri": "https://localhost:8080/",
     "height": 1000
    },
    "colab_type": "code",
    "executionInfo": {
     "elapsed": 811,
     "status": "ok",
     "timestamp": 1563829098236,
     "user": {
      "displayName": "Shivangi Gupta",
      "photoUrl": "",
      "userId": "12757452847987614308"
     },
     "user_tz": 420
    },
    "id": "BmbMljXusShm",
    "outputId": "32513506-d0e4-46d4-b44a-d117e180df01"
   },
   "outputs": [
    {
     "name": "stdout",
     "output_type": "stream",
     "text": [
      "Bird Data Train:\n",
      "[array([[[164, 206,  84],\n",
      "        [105, 140,  61],\n",
      "        [118, 148, 101],\n",
      "        ...,\n",
      "        [109, 147,  73],\n",
      "        [108, 147,  69],\n",
      "        [ 91, 129,  57]],\n",
      "\n",
      "       [[167, 213,  84],\n",
      "        [116, 160,  49],\n",
      "        [ 72, 109,  43],\n",
      "        ...,\n",
      "        [105, 142,  79],\n",
      "        [105, 142,  72],\n",
      "        [ 89, 127,  57]],\n",
      "\n",
      "       [[140, 191,  65],\n",
      "        [142, 193,  66],\n",
      "        [119, 163,  79],\n",
      "        ...,\n",
      "        [104, 139,  84],\n",
      "        [ 84, 120,  58],\n",
      "        [ 78, 115,  49]],\n",
      "\n",
      "       ...,\n",
      "\n",
      "       [[139, 148,  81],\n",
      "        [142, 155,  74],\n",
      "        [135, 156,  72],\n",
      "        ...,\n",
      "        [ 89, 134,  28],\n",
      "        [ 97, 148,  24],\n",
      "        [126, 176,  49]],\n",
      "\n",
      "       [[163, 157,  85],\n",
      "        [153, 164,  82],\n",
      "        [146, 164,  90],\n",
      "        ...,\n",
      "        [ 85, 130,  19],\n",
      "        [ 98, 148,  27],\n",
      "        [127, 178,  48]],\n",
      "\n",
      "       [[183, 153, 102],\n",
      "        [176, 182, 116],\n",
      "        [154, 154, 100],\n",
      "        ...,\n",
      "        [ 94, 134,  29],\n",
      "        [ 91, 133,  26],\n",
      "        [122, 170,  44]]], dtype=uint8), array([[[ 17,   3,   2],\n",
      "        [ 17,   3,   2],\n",
      "        [ 17,   2,   1],\n",
      "        ...,\n",
      "        [ 23,  13,  11],\n",
      "        [ 22,  12,  10],\n",
      "        [ 19,   9,   7]],\n",
      "\n",
      "       [[ 18,   4,   3],\n",
      "        [ 18,   4,   3],\n",
      "        [ 18,   4,   3],\n",
      "        ...,\n",
      "        [ 24,  14,  12],\n",
      "        [ 23,  13,  11],\n",
      "        [ 22,  12,  10]],\n",
      "\n",
      "       [[ 18,   4,   3],\n",
      "        [ 18,   4,   3],\n",
      "        [ 19,   5,   4],\n",
      "        ...,\n",
      "        [ 24,  14,  12],\n",
      "        [ 23,  13,  11],\n",
      "        [ 23,  13,  11]],\n",
      "\n",
      "       ...,\n",
      "\n",
      "       [[217, 214, 223],\n",
      "        [226, 219, 227],\n",
      "        [210, 201, 213],\n",
      "        ...,\n",
      "        [ 33,  24,  17],\n",
      "        [ 32,  23,  16],\n",
      "        [ 33,  24,  17]],\n",
      "\n",
      "       [[219, 215, 230],\n",
      "        [222, 215, 229],\n",
      "        [214, 208, 225],\n",
      "        ...,\n",
      "        [ 35,  26,  19],\n",
      "        [ 34,  25,  18],\n",
      "        [ 33,  24,  17]],\n",
      "\n",
      "       [[210, 208, 223],\n",
      "        [221, 216, 229],\n",
      "        [215, 212, 227],\n",
      "        ...,\n",
      "        [ 36,  27,  20],\n",
      "        [ 34,  25,  18],\n",
      "        [ 32,  23,  16]]], dtype=uint8)]\n",
      "Bird Data Test:\n",
      "[array([[[100, 103,  74],\n",
      "        [ 68,  91,  65],\n",
      "        [116, 162, 109],\n",
      "        ...,\n",
      "        [115, 174,  99],\n",
      "        [117, 173, 106],\n",
      "        [115, 170, 108]],\n",
      "\n",
      "       [[ 96, 120,  79],\n",
      "        [115, 156, 100],\n",
      "        [125, 175, 113],\n",
      "        ...,\n",
      "        [120, 175, 110],\n",
      "        [121, 174, 114],\n",
      "        [118, 172, 115]],\n",
      "\n",
      "       [[121, 170, 108],\n",
      "        [124, 182, 112],\n",
      "        [128, 190, 111],\n",
      "        ...,\n",
      "        [121, 177, 115],\n",
      "        [120, 176, 113],\n",
      "        [121, 176, 115]],\n",
      "\n",
      "       ...,\n",
      "\n",
      "       [[106, 151,  97],\n",
      "        [107, 153, 101],\n",
      "        [109, 158, 104],\n",
      "        ...,\n",
      "        [197, 131, 121],\n",
      "        [188, 138, 146],\n",
      "        [178, 171, 186]],\n",
      "\n",
      "       [[107, 156,  94],\n",
      "        [109, 153,  97],\n",
      "        [113, 160, 108],\n",
      "        ...,\n",
      "        [188, 125, 109],\n",
      "        [201, 142, 127],\n",
      "        [202, 159, 146]],\n",
      "\n",
      "       [[ 89, 140,  75],\n",
      "        [120, 160, 108],\n",
      "        [125, 150, 104],\n",
      "        ...,\n",
      "        [124,  91,  68],\n",
      "        [149, 114,  94],\n",
      "        [160, 121, 100]]], dtype=uint8), array([[[ 66,  73,  84],\n",
      "        [ 66,  71,  81],\n",
      "        [ 64,  67,  75],\n",
      "        ...,\n",
      "        [104,  97,  81],\n",
      "        [104,  97,  81],\n",
      "        [104,  97,  81]],\n",
      "\n",
      "       [[ 51,  57,  67],\n",
      "        [ 55,  59,  68],\n",
      "        [ 49,  51,  58],\n",
      "        ...,\n",
      "        [ 94,  87,  71],\n",
      "        [ 95,  88,  72],\n",
      "        [ 96,  89,  73]],\n",
      "\n",
      "       [[ 49,  53,  63],\n",
      "        [ 55,  58,  67],\n",
      "        [ 48,  49,  55],\n",
      "        ...,\n",
      "        [ 78,  69,  55],\n",
      "        [ 77,  68,  54],\n",
      "        [ 78,  69,  56]],\n",
      "\n",
      "       ...,\n",
      "\n",
      "       [[153, 156, 133],\n",
      "        [128, 129, 107],\n",
      "        [ 80,  79,  63],\n",
      "        ...,\n",
      "        [184, 184, 140],\n",
      "        [183, 183, 139],\n",
      "        [182, 182, 138]],\n",
      "\n",
      "       [[160, 164, 136],\n",
      "        [142, 145, 117],\n",
      "        [100,  99,  79],\n",
      "        ...,\n",
      "        [184, 189, 143],\n",
      "        [184, 188, 143],\n",
      "        [183, 187, 142]],\n",
      "\n",
      "       [[165, 171, 139],\n",
      "        [153, 156, 123],\n",
      "        [120, 120,  97],\n",
      "        ...,\n",
      "        [184, 193, 146],\n",
      "        [184, 192, 145],\n",
      "        [183, 191, 144]]], dtype=uint8)]\n"
     ]
    }
   ],
   "source": [
    "#2(b)\n",
    "bird_data_train=[]\n",
    "indexes = [i for i,x in enumerate(y_train) if x == 2]\n",
    "for y in indexes:\n",
    "  bird_data_train.append(X_train[y])\n",
    "#print(bird_data_train)\n",
    "bird_data_test=[]\n",
    "indexes_test = [i for i,x in enumerate(y_test) if x == 2]\n",
    "for y in indexes_test:\n",
    "  bird_data_test.append(X_test[y])\n",
    "\n",
    "\n",
    "train_data=np.concatenate(((np.array(bird_data_train).reshape(-1,3)),(np.array(bird_data_test).reshape(-1,3))),axis=0)\n",
    "\n",
    "print(\"Bird Data Train:\")\n",
    "print(bird_data_train[0:2])\n",
    "\n",
    "\n",
    "print(\"Bird Data Test:\")\n",
    "print(bird_data_test[0:2])"
   ]
  },
  {
   "cell_type": "code",
   "execution_count": 0,
   "metadata": {
    "colab": {
     "base_uri": "https://localhost:8080/",
     "height": 34
    },
    "colab_type": "code",
    "executionInfo": {
     "elapsed": 820,
     "status": "ok",
     "timestamp": 1563829166475,
     "user": {
      "displayName": "Shivangi Gupta",
      "photoUrl": "",
      "userId": "12757452847987614308"
     },
     "user_tz": 420
    },
    "id": "rv9bFloKUAqN",
    "outputId": "fa11426e-d08a-4a7c-de00-a6073c6f5878"
   },
   "outputs": [
    {
     "name": "stdout",
     "output_type": "stream",
     "text": [
      "Shape of train data for clustering :(6144000, 3)\n"
     ]
    }
   ],
   "source": [
    "#2(c)\n",
    "print(\"Shape of train data for clustering :\"+str(train_data.shape))"
   ]
  },
  {
   "cell_type": "code",
   "execution_count": 0,
   "metadata": {
    "colab": {
     "base_uri": "https://localhost:8080/",
     "height": 51
    },
    "colab_type": "code",
    "executionInfo": {
     "elapsed": 104985,
     "status": "ok",
     "timestamp": 1563829275949,
     "user": {
      "displayName": "Shivangi Gupta",
      "photoUrl": "",
      "userId": "12757452847987614308"
     },
     "user_tz": 420
    },
    "id": "GRKYaPdL9Z4x",
    "outputId": "820a7e7d-440d-439a-c3fe-a56fcd6379a1"
   },
   "outputs": [
    {
     "name": "stdout",
     "output_type": "stream",
     "text": [
      "Classess assigned to the data:\n",
      "[2 0 0 ... 2 2 2]\n"
     ]
    }
   ],
   "source": [
    "#2(d)\n",
    "kmeans = KMeans(n_clusters=4, random_state=0).fit(train_data)\n",
    "print(\"Classess assigned to the data:\")\n",
    "print(kmeans.labels_)"
   ]
  },
  {
   "cell_type": "code",
   "execution_count": 0,
   "metadata": {
    "colab": {
     "base_uri": "https://localhost:8080/",
     "height": 34
    },
    "colab_type": "code",
    "executionInfo": {
     "elapsed": 1434,
     "status": "ok",
     "timestamp": 1563731574051,
     "user": {
      "displayName": "Shivangi Gupta",
      "photoUrl": "",
      "userId": "12757452847987614308"
     },
     "user_tz": 420
    },
    "id": "anYgHvEN905O",
    "outputId": "f58c1ff4-73ab-4188-83d6-8c74aa8ec814"
   },
   "outputs": [
    {
     "data": {
      "text/plain": [
       "(1000, 32, 32, 4)"
      ]
     },
     "execution_count": 6,
     "metadata": {
      "tags": []
     },
     "output_type": "execute_result"
    }
   ],
   "source": [
    "pred_val_train=kmeans.predict(np.array(bird_data_train).reshape(-1,3))\n",
    "pred_val_train=pred_val_train.reshape(5000,32,32,1)\n",
    "pred_val_train=to_categorical(pred_val_train)\n",
    "pred_val_test=kmeans.predict(np.array(bird_data_test).reshape(-1,3))\n",
    "\n",
    "pred_val_test=pred_val_test.reshape(1000,32,32,1)\n",
    "pred_val_test=to_categorical(pred_val_test)\n",
    "#pred_val_test.shape"
   ]
  },
  {
   "cell_type": "code",
   "execution_count": 0,
   "metadata": {
    "colab": {
     "base_uri": "https://localhost:8080/",
     "height": 51
    },
    "colab_type": "code",
    "executionInfo": {
     "elapsed": 870,
     "status": "ok",
     "timestamp": 1563829978044,
     "user": {
      "displayName": "Shivangi Gupta",
      "photoUrl": "",
      "userId": "12757452847987614308"
     },
     "user_tz": 420
    },
    "id": "YzoMYO-wAtbs",
    "outputId": "f8af8ea8-edd5-4e7b-87ad-c8be72968e51"
   },
   "outputs": [
    {
     "name": "stdout",
     "output_type": "stream",
     "text": [
      "Shape of Grayscale Data :\n",
      "(5000, 32, 32, 1)\n"
     ]
    }
   ],
   "source": [
    "#2(e)\n",
    "bird_data_train_scaled=[]\n",
    "for i in bird_data_train:\n",
    "  bird_data_train_scaled.append(cv2.cvtColor(i,cv2.COLOR_BGR2GRAY))\n",
    "  \n",
    "bird_data_train_scaled=np.array(bird_data_train_scaled)\n",
    "\n",
    "bird_data_test_scaled=[]\n",
    "for i in bird_data_test:\n",
    "  bird_data_test_scaled.append(cv2.cvtColor(i,cv2.COLOR_BGR2GRAY))\n",
    "  \n",
    "bird_data_test_scaled=np.array(bird_data_test_scaled)\n",
    "\n",
    "grayscale_images=copy.deepcopy(bird_data_test_scaled)\n",
    "\n",
    "bird_data_train_scaled=bird_data_train_scaled.reshape(5000,32,32,1)\n",
    "bird_data_test_scaled=bird_data_test_scaled.reshape(1000,32,32,1)\n",
    "\n",
    "print(\"Shape of Grayscale Data :\")\n",
    "print(bird_data_train_scaled.shape)"
   ]
  },
  {
   "cell_type": "code",
   "execution_count": 0,
   "metadata": {
    "colab": {
     "base_uri": "https://localhost:8080/",
     "height": 1000
    },
    "colab_type": "code",
    "executionInfo": {
     "elapsed": 1163538,
     "status": "ok",
     "timestamp": 1563732755478,
     "user": {
      "displayName": "Shivangi Gupta",
      "photoUrl": "",
      "userId": "12757452847987614308"
     },
     "user_tz": 420
    },
    "id": "P69LK7t7J5pa",
    "outputId": "4934cfbd-7943-47eb-a6c0-54bc84a59be5"
   },
   "outputs": [
    {
     "name": "stderr",
     "output_type": "stream",
     "text": [
      "WARNING: Logging before flag parsing goes to stderr.\n",
      "W0721 17:53:14.131942 140643110934400 deprecation_wrapper.py:119] From /usr/local/lib/python3.6/dist-packages/keras/backend/tensorflow_backend.py:74: The name tf.get_default_graph is deprecated. Please use tf.compat.v1.get_default_graph instead.\n",
      "\n",
      "W0721 17:53:14.176233 140643110934400 deprecation_wrapper.py:119] From /usr/local/lib/python3.6/dist-packages/keras/backend/tensorflow_backend.py:517: The name tf.placeholder is deprecated. Please use tf.compat.v1.placeholder instead.\n",
      "\n",
      "W0721 17:53:14.185024 140643110934400 deprecation_wrapper.py:119] From /usr/local/lib/python3.6/dist-packages/keras/backend/tensorflow_backend.py:4138: The name tf.random_uniform is deprecated. Please use tf.random.uniform instead.\n",
      "\n",
      "W0721 17:53:14.229587 140643110934400 deprecation_wrapper.py:119] From /usr/local/lib/python3.6/dist-packages/keras/backend/tensorflow_backend.py:3976: The name tf.nn.max_pool is deprecated. Please use tf.nn.max_pool2d instead.\n",
      "\n",
      "W0721 17:53:14.284625 140643110934400 deprecation_wrapper.py:119] From /usr/local/lib/python3.6/dist-packages/keras/optimizers.py:790: The name tf.train.Optimizer is deprecated. Please use tf.compat.v1.train.Optimizer instead.\n",
      "\n",
      "W0721 17:53:14.308402 140643110934400 deprecation_wrapper.py:119] From /usr/local/lib/python3.6/dist-packages/keras/backend/tensorflow_backend.py:3295: The name tf.log is deprecated. Please use tf.math.log instead.\n",
      "\n",
      "W0721 17:53:14.444277 140643110934400 deprecation.py:323] From /usr/local/lib/python3.6/dist-packages/tensorflow/python/ops/math_grad.py:1250: add_dispatch_support.<locals>.wrapper (from tensorflow.python.ops.array_ops) is deprecated and will be removed in a future version.\n",
      "Instructions for updating:\n",
      "Use tf.where in 2.0, which has the same broadcast rule as np.where\n",
      "W0721 17:53:14.512181 140643110934400 deprecation_wrapper.py:119] From /usr/local/lib/python3.6/dist-packages/keras/backend/tensorflow_backend.py:986: The name tf.assign_add is deprecated. Please use tf.compat.v1.assign_add instead.\n",
      "\n"
     ]
    },
    {
     "name": "stdout",
     "output_type": "stream",
     "text": [
      "(1000, 32, 32, 4)\n",
      "(5000, 4096)\n",
      "Train on 5000 samples, validate on 1000 samples\n",
      "Epoch 1/50\n",
      "5000/5000 [==============================] - 26s 5ms/step - loss: 8530.9051 - acc: 4.0000e-04 - val_loss: 8350.2183 - val_acc: 0.0000e+00\n",
      "Epoch 2/50\n",
      "5000/5000 [==============================] - 25s 5ms/step - loss: 8267.9695 - acc: 8.0000e-04 - val_loss: 8235.6967 - val_acc: 0.0000e+00\n",
      "Epoch 3/50\n",
      "5000/5000 [==============================] - 24s 5ms/step - loss: 8182.6738 - acc: 0.0000e+00 - val_loss: 8194.7986 - val_acc: 0.0000e+00\n",
      "Epoch 4/50\n",
      "5000/5000 [==============================] - 23s 5ms/step - loss: 8121.9151 - acc: 2.0000e-04 - val_loss: 8181.5196 - val_acc: 0.0000e+00\n",
      "Epoch 5/50\n",
      "5000/5000 [==============================] - 24s 5ms/step - loss: 8077.2043 - acc: 2.0000e-04 - val_loss: 8174.0315 - val_acc: 0.0000e+00\n",
      "Epoch 6/50\n",
      "5000/5000 [==============================] - 24s 5ms/step - loss: 8045.5456 - acc: 2.0000e-04 - val_loss: 8184.0993 - val_acc: 0.0000e+00\n",
      "Epoch 7/50\n",
      "5000/5000 [==============================] - 24s 5ms/step - loss: 8011.3871 - acc: 4.0000e-04 - val_loss: 8210.6405 - val_acc: 1.0000e-03\n",
      "Epoch 8/50\n",
      "5000/5000 [==============================] - 24s 5ms/step - loss: 7979.4502 - acc: 8.0000e-04 - val_loss: 8197.6519 - val_acc: 0.0000e+00\n",
      "Epoch 9/50\n",
      "5000/5000 [==============================] - 24s 5ms/step - loss: 7950.2667 - acc: 0.0000e+00 - val_loss: 8186.6119 - val_acc: 0.0000e+00\n",
      "Epoch 10/50\n",
      "5000/5000 [==============================] - 24s 5ms/step - loss: 7924.9588 - acc: 8.0000e-04 - val_loss: 8199.0623 - val_acc: 1.0000e-03\n",
      "Epoch 11/50\n",
      "5000/5000 [==============================] - 25s 5ms/step - loss: 7898.4401 - acc: 6.0000e-04 - val_loss: 8208.9156 - val_acc: 0.0000e+00\n",
      "Epoch 12/50\n",
      "5000/5000 [==============================] - 25s 5ms/step - loss: 7875.3010 - acc: 2.0000e-04 - val_loss: 8231.5980 - val_acc: 0.0000e+00\n",
      "Epoch 13/50\n",
      "5000/5000 [==============================] - 25s 5ms/step - loss: 7859.8780 - acc: 6.0000e-04 - val_loss: 8242.0497 - val_acc: 0.0000e+00\n",
      "Epoch 14/50\n",
      "5000/5000 [==============================] - 25s 5ms/step - loss: 7846.4437 - acc: 4.0000e-04 - val_loss: 8253.0155 - val_acc: 1.0000e-03\n",
      "Epoch 15/50\n",
      "5000/5000 [==============================] - 23s 5ms/step - loss: 7828.5759 - acc: 6.0000e-04 - val_loss: 8240.8684 - val_acc: 1.0000e-03\n",
      "Epoch 16/50\n",
      "5000/5000 [==============================] - 23s 5ms/step - loss: 7809.3006 - acc: 2.0000e-04 - val_loss: 8236.8455 - val_acc: 1.0000e-03\n",
      "Epoch 17/50\n",
      "5000/5000 [==============================] - 23s 5ms/step - loss: 7792.5474 - acc: 8.0000e-04 - val_loss: 8269.8953 - val_acc: 0.0000e+00\n",
      "Epoch 18/50\n",
      "5000/5000 [==============================] - 23s 5ms/step - loss: 7785.3757 - acc: 6.0000e-04 - val_loss: 8287.7421 - val_acc: 0.0000e+00\n",
      "Epoch 19/50\n",
      "5000/5000 [==============================] - 23s 5ms/step - loss: 7771.0836 - acc: 0.0000e+00 - val_loss: 8280.5922 - val_acc: 0.0000e+00\n",
      "Epoch 20/50\n",
      "5000/5000 [==============================] - 24s 5ms/step - loss: 7760.1323 - acc: 4.0000e-04 - val_loss: 8303.5309 - val_acc: 0.0000e+00\n",
      "Epoch 21/50\n",
      "5000/5000 [==============================] - 25s 5ms/step - loss: 7751.9504 - acc: 8.0000e-04 - val_loss: 8299.4612 - val_acc: 0.0000e+00\n",
      "Epoch 22/50\n",
      "5000/5000 [==============================] - 24s 5ms/step - loss: 7740.6014 - acc: 8.0000e-04 - val_loss: 8335.4641 - val_acc: 0.0000e+00\n",
      "Epoch 23/50\n",
      "5000/5000 [==============================] - 24s 5ms/step - loss: 7735.6393 - acc: 6.0000e-04 - val_loss: 8303.8542 - val_acc: 0.0020\n",
      "Epoch 24/50\n",
      "5000/5000 [==============================] - 24s 5ms/step - loss: 7726.0992 - acc: 0.0018 - val_loss: 8310.3918 - val_acc: 0.0000e+00\n",
      "Epoch 25/50\n",
      "5000/5000 [==============================] - 23s 5ms/step - loss: 7716.3186 - acc: 2.0000e-04 - val_loss: 8340.4606 - val_acc: 1.0000e-03\n",
      "Epoch 26/50\n",
      "5000/5000 [==============================] - 23s 5ms/step - loss: 7706.6610 - acc: 2.0000e-04 - val_loss: 8346.9525 - val_acc: 0.0000e+00\n",
      "Epoch 27/50\n",
      "5000/5000 [==============================] - 23s 5ms/step - loss: 7702.2388 - acc: 0.0012 - val_loss: 8352.9637 - val_acc: 0.0000e+00\n",
      "Epoch 28/50\n",
      "5000/5000 [==============================] - 23s 5ms/step - loss: 7696.8103 - acc: 2.0000e-04 - val_loss: 8342.3618 - val_acc: 0.0000e+00\n",
      "Epoch 29/50\n",
      "5000/5000 [==============================] - 24s 5ms/step - loss: 7694.3838 - acc: 6.0000e-04 - val_loss: 8376.0000 - val_acc: 0.0000e+00\n",
      "Epoch 30/50\n",
      "5000/5000 [==============================] - 23s 5ms/step - loss: 7691.6833 - acc: 0.0012 - val_loss: 8362.8962 - val_acc: 0.0000e+00\n",
      "Epoch 31/50\n",
      "5000/5000 [==============================] - 23s 5ms/step - loss: 7683.8582 - acc: 6.0000e-04 - val_loss: 8369.4975 - val_acc: 1.0000e-03\n",
      "Epoch 32/50\n",
      "5000/5000 [==============================] - 22s 4ms/step - loss: 7680.9990 - acc: 4.0000e-04 - val_loss: 8370.0986 - val_acc: 1.0000e-03\n",
      "Epoch 33/50\n",
      "5000/5000 [==============================] - 22s 4ms/step - loss: 7678.3927 - acc: 4.0000e-04 - val_loss: 8348.9270 - val_acc: 0.0000e+00\n",
      "Epoch 34/50\n",
      "5000/5000 [==============================] - 22s 4ms/step - loss: 7667.6396 - acc: 0.0000e+00 - val_loss: 8342.0062 - val_acc: 1.0000e-03\n",
      "Epoch 35/50\n",
      "5000/5000 [==============================] - 23s 5ms/step - loss: 7664.3107 - acc: 6.0000e-04 - val_loss: 8390.1128 - val_acc: 0.0000e+00\n",
      "Epoch 36/50\n",
      "5000/5000 [==============================] - 23s 5ms/step - loss: 7666.1457 - acc: 8.0000e-04 - val_loss: 8394.7884 - val_acc: 0.0000e+00\n",
      "Epoch 37/50\n",
      "5000/5000 [==============================] - 23s 5ms/step - loss: 7661.8753 - acc: 0.0012 - val_loss: 8431.5382 - val_acc: 0.0000e+00\n",
      "Epoch 38/50\n",
      "5000/5000 [==============================] - 23s 5ms/step - loss: 7662.8653 - acc: 2.0000e-04 - val_loss: 8389.5804 - val_acc: 0.0000e+00\n",
      "Epoch 39/50\n",
      "5000/5000 [==============================] - 23s 5ms/step - loss: 7653.5407 - acc: 8.0000e-04 - val_loss: 8385.0960 - val_acc: 0.0000e+00\n",
      "Epoch 40/50\n",
      "5000/5000 [==============================] - 23s 5ms/step - loss: 7653.5279 - acc: 0.0012 - val_loss: 8405.4854 - val_acc: 1.0000e-03\n",
      "Epoch 41/50\n",
      "5000/5000 [==============================] - 23s 5ms/step - loss: 7646.9652 - acc: 1.0000e-03 - val_loss: 8420.1266 - val_acc: 1.0000e-03\n",
      "Epoch 42/50\n",
      "5000/5000 [==============================] - 22s 4ms/step - loss: 7645.4511 - acc: 6.0000e-04 - val_loss: 8411.3561 - val_acc: 0.0000e+00\n",
      "Epoch 43/50\n",
      "5000/5000 [==============================] - 22s 4ms/step - loss: 7643.0764 - acc: 0.0012 - val_loss: 8409.2882 - val_acc: 0.0000e+00\n",
      "Epoch 44/50\n",
      "5000/5000 [==============================] - 22s 4ms/step - loss: 7639.3160 - acc: 8.0000e-04 - val_loss: 8470.2412 - val_acc: 1.0000e-03\n",
      "Epoch 45/50\n",
      "5000/5000 [==============================] - 23s 5ms/step - loss: 7636.6620 - acc: 0.0014 - val_loss: 8425.3486 - val_acc: 0.0000e+00\n",
      "Epoch 46/50\n",
      "5000/5000 [==============================] - 22s 4ms/step - loss: 7630.2936 - acc: 6.0000e-04 - val_loss: 8435.3751 - val_acc: 1.0000e-03\n",
      "Epoch 47/50\n",
      "5000/5000 [==============================] - 21s 4ms/step - loss: 7633.3953 - acc: 2.0000e-04 - val_loss: 8445.7745 - val_acc: 0.0000e+00\n",
      "Epoch 48/50\n",
      "5000/5000 [==============================] - 21s 4ms/step - loss: 7634.8801 - acc: 4.0000e-04 - val_loss: 8426.6696 - val_acc: 1.0000e-03\n",
      "Epoch 49/50\n",
      "5000/5000 [==============================] - 21s 4ms/step - loss: 7630.1004 - acc: 2.0000e-04 - val_loss: 8493.6541 - val_acc: 0.0000e+00\n",
      "Epoch 50/50\n",
      "5000/5000 [==============================] - 21s 4ms/step - loss: 7628.2751 - acc: 0.0016 - val_loss: 8454.5667 - val_acc: 0.0000e+00\n"
     ]
    }
   ],
   "source": [
    "#2(f)\n",
    "model = Sequential()\n",
    "model.add(Conv2D(10, kernel_size=5, strides=1,activation='relu', input_shape=(32,32,1)))\n",
    "model.add(MaxPooling2D(pool_size=(2, 2)))\n",
    "model.add(Conv2D(10, kernel_size=5,strides=1, activation='relu'))\n",
    "model.add(MaxPooling2D(pool_size=(2, 2)))\n",
    "model.add(Flatten())\n",
    "model.add(Dense(1024, activation='relu'))\n",
    "model.add(Dense(4096, activation='softmax'))\n",
    "\n",
    "model.compile(optimizer='adam', loss='categorical_crossentropy', metrics=['accuracy'])\n",
    "\n",
    "pred_val_train=np.reshape(pred_val_train,(len(pred_val_train),4096))\n",
    "#print(pred_val_test.shape)\n",
    "pred_val_test=np.reshape(pred_val_test,(len(pred_val_test),4096))\n",
    "#print(pred_val_train.shape)\n",
    "metrics=model.fit(bird_data_train_scaled, pred_val_train, validation_data=(bird_data_test_scaled, pred_val_test), epochs=50)\n",
    "\n"
   ]
  },
  {
   "cell_type": "code",
   "execution_count": 0,
   "metadata": {
    "colab": {
     "base_uri": "https://localhost:8080/",
     "height": 283
    },
    "colab_type": "code",
    "executionInfo": {
     "elapsed": 570,
     "status": "ok",
     "timestamp": 1563734087592,
     "user": {
      "displayName": "Shivangi Gupta",
      "photoUrl": "",
      "userId": "12757452847987614308"
     },
     "user_tz": 420
    },
    "id": "U1qlmo-Ewej0",
    "outputId": "3cdcde90-2b50-4ea5-b2b3-59a9a89ee592"
   },
   "outputs": [
    {
     "data": {
      "image/png": "[encoded data removed]",
      "text/plain": [
       "<Figure size 432x288 with 1 Axes>"
      ]
     },
     "metadata": {
      "tags": []
     },
     "output_type": "display_data"
    }
   ],
   "source": [
    "train_errors=metrics.history['loss']\n",
    "test_errors=metrics.history['val_loss']\n",
    "x_val=np.arange(1,51,1)\n",
    "plt.plot(x_val,train_errors,c='blue',label='Train Error')\n",
    "plt.plot(x_val,test_errors,c='red',label='Test Error')\n",
    "plt.ylabel(\"Error\")\n",
    "plt.xlabel(\"Epoch Number\")\n",
    "plt.legend()\n",
    "plt.show()\n"
   ]
  },
  {
   "cell_type": "code",
   "execution_count": 0,
   "metadata": {
    "colab": {},
    "colab_type": "code",
    "id": "H5VAFeloXggd"
   },
   "outputs": [],
   "source": [
    "pred=model.predict(bird_data_test_scaled[0:10])\n"
   ]
  },
  {
   "cell_type": "code",
   "execution_count": 0,
   "metadata": {
    "colab": {
     "base_uri": "https://localhost:8080/",
     "height": 377
    },
    "colab_type": "code",
    "executionInfo": {
     "elapsed": 2249,
     "status": "ok",
     "timestamp": 1563735896419,
     "user": {
      "displayName": "Shivangi Gupta",
      "photoUrl": "",
      "userId": "12757452847987614308"
     },
     "user_tz": 420
    },
    "id": "_2_SkjvFMTEO",
    "outputId": "4ec7c9d8-7a75-479a-fa9f-37ba92d0cfc8"
   },
   "outputs": [
    {
     "name": "stdout",
     "output_type": "stream",
     "text": [
      "Original Images\n"
     ]
    },
    {
     "data": {
      "image/png": "[encoded data removed]",
      "text/plain": [
       "<Figure size 1080x1080 with 10 Axes>"
      ]
     },
     "metadata": {
      "tags": []
     },
     "output_type": "display_data"
    },
    {
     "name": "stdout",
     "output_type": "stream",
     "text": [
      "Gray Scale Images\n"
     ]
    },
    {
     "data": {
      "image/png": "[encoded data removed]",
      "text/plain": [
       "<Figure size 1080x1080 with 10 Axes>"
      ]
     },
     "metadata": {
      "tags": []
     },
     "output_type": "display_data"
    },
    {
     "name": "stdout",
     "output_type": "stream",
     "text": [
      "Output Colored Images\n"
     ]
    },
    {
     "data": {
      "image/png": "[encoded data removed]",
      "text/plain": [
       "<Figure size 1080x1080 with 10 Axes>"
      ]
     },
     "metadata": {
      "tags": []
     },
     "output_type": "display_data"
    }
   ],
   "source": [
    "print(\"Original Images\")\n",
    "fig=plt.figure(figsize=(15, 15))\n",
    "for i in range(1,11):\n",
    "  temp=np.array(bird_data_test)[i-1]\n",
    "  fig.add_subplot(10, 10, i)\n",
    "  plt.imshow(temp)\n",
    "  plt.axis('off')\n",
    "plt.show()\n",
    "\n",
    "print(\"Gray Scale Images\")\n",
    "fig=plt.figure(figsize=(15, 15))\n",
    "for i in range(1,11):\n",
    "  temp=grayscale_images[i-1]\n",
    "  fig.add_subplot(10, 10, i)\n",
    "  plt.imshow(temp)\n",
    "  plt.axis('off')\n",
    "plt.show()\n",
    "\n",
    "print(\"Output Colored Images\")\n",
    "fig=plt.figure(figsize=(15, 15))\n",
    "for i in range(1,len(pred)+1):\n",
    "  temp=pred[i-1].reshape(32,32,4).reshape(-1,4)\n",
    "  ind1=[]\n",
    "  for k in list(temp):\n",
    "    k=list(k)\n",
    "    ind1.append(k.index(max(k)))\n",
    "  fin_test=[]\n",
    "  for k in ind1:\n",
    "    fin_test.append(kmeans.cluster_centers_[k])\n",
    "  te=(np.uint8(np.array(fin_test)).reshape(32,32,3))\n",
    "  fig.add_subplot(10, 10, i)\n",
    "  plt.imshow(te)\n",
    "  plt.axis('off')\n",
    "plt.show()"
   ]
  }
 ],
 "metadata": {
  "accelerator": "GPU",
  "colab": {
   "collapsed_sections": [],
   "name": "HW7.ipynb",
   "provenance": [],
   "version": "0.3.2"
  },
  "kernelspec": {
   "display_name": "Python 3",
   "language": "python",
   "name": "python3"
  },
  "language_info": {
   "codemirror_mode": {
    "name": "ipython",
    "version": 3
   },
   "file_extension": ".py",
   "mimetype": "text/x-python",
   "name": "python",
   "nbconvert_exporter": "python",
   "pygments_lexer": "ipython3",
   "version": "3.7.2"
  }
 },
 "nbformat": 4,
 "nbformat_minor": 1
}
